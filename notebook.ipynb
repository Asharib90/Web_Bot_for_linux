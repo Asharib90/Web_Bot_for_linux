{
 "cells": [
  {
   "cell_type": "code",
   "execution_count": 2,
   "id": "44534c6d",
   "metadata": {},
   "outputs": [],
   "source": [
    "from selenium import webdriver\n",
    "from selenium.webdriver.common.keys import Keys\n",
    "from webdriver_manager.chrome import ChromeDriverManager\n",
    "import datetime\n",
    "import time\n",
    "from pynput.keyboard import Key, Controller"
   ]
  },
  {
   "cell_type": "code",
   "execution_count": 51,
   "id": "3ee6e9dd",
   "metadata": {},
   "outputs": [
    {
     "name": "stderr",
     "output_type": "stream",
     "text": [
      "[WDM] - \n",
      "\n",
      "[WDM] - ====== WebDriver manager ======\n",
      "[WDM] - Current google-chrome version is 94.0.4606\n",
      "[WDM] - Get LATEST driver version for 94.0.4606\n",
      "[WDM] - Driver [/home/asharib/.wdm/drivers/chromedriver/linux64/94.0.4606.61/chromedriver] found in cache\n",
      "<ipython-input-51-4a7da89c17c8>:3: DeprecationWarning: executable_path has been deprecated, please pass in a Service object\n",
      "  self.bot = webdriver.Chrome(ChromeDriverManager().install())\n"
     ]
    }
   ],
   "source": [
    "class web_bot:\n",
    "    def join(self,meeting_link):\n",
    "        self.bot = webdriver.Chrome(ChromeDriverManager().install())\n",
    "        self.bot.get(meeting_link)\n",
    "        time.sleep(5)\n",
    "        keyboard = Controller()\n",
    "        \n",
    "        keyboard.press(Key.tab)\n",
    "        keyboard.release(Key.tab)\n",
    "        keyboard.type('Hello World')\n",
    "        keyboard.press(Key.tab)\n",
    "        keyboard.release(Key.tab)\n",
    "        keyboard.type('HelloWorld@gmail.com')\n",
    "        keyboard.press(Key.tab)\n",
    "        keyboard.release(Key.tab)\n",
    "        keyboard.type('00000000000')\n",
    "        keyboard.press(Key.tab)\n",
    "        keyboard.release(Key.tab)\n",
    "        keyboard.type('00')\n",
    "        keyboard.press(Key.tab)\n",
    "        keyboard.release(Key.tab)\n",
    "        keyboard.type('Pakistan')\n",
    "        keyboard.press(Key.enter)\n",
    "        keyboard.release(Key.enter)\n",
    "        keyboard.press(Key.tab)\n",
    "        keyboard.release(Key.tab)\n",
    "        keyboard.type('Karachi')\n",
    "        keyboard.press(Key.tab)\n",
    "        keyboard.release(Key.tab)      \n",
    "        keyboard.press(Key.right)\n",
    "        keyboard.release(Key.right)\n",
    "        keyboard.press(Key.tab)\n",
    "        keyboard.release(Key.tab)\n",
    "        keyboard.press(Key.right)\n",
    "        keyboard.release(Key.right)\n",
    "        keyboard.press(Key.tab)\n",
    "        keyboard.release(Key.tab)\n",
    "        keyboard.press(Key.right)\n",
    "        keyboard.release(Key.right)\n",
    "        keyboard.press(Key.tab)\n",
    "        keyboard.release(Key.tab)\n",
    "        \n",
    "        for i in range(100):\n",
    "            keyboard.press(Key.enter)\n",
    "            keyboard.release(Key.enter)\n",
    "\n",
    "#         time.sleep(10)\n",
    "#         self.bot.quit()\n",
    "                                                        \n",
    "link = open(\"link.txt\",\"r\").read()\n",
    "\n",
    "obj = web_bot()\n",
    "obj.join(link)"
   ]
  },
  {
   "cell_type": "markdown",
   "id": "8ffc7d51",
   "metadata": {},
   "source": []
  }
 ],
 "metadata": {
  "kernelspec": {
   "display_name": "Python 3",
   "language": "python",
   "name": "python3"
  },
  "language_info": {
   "codemirror_mode": {
    "name": "ipython",
    "version": 3
   },
   "file_extension": ".py",
   "mimetype": "text/x-python",
   "name": "python",
   "nbconvert_exporter": "python",
   "pygments_lexer": "ipython3",
   "version": "3.8.8"
  }
 },
 "nbformat": 4,
 "nbformat_minor": 5
}
